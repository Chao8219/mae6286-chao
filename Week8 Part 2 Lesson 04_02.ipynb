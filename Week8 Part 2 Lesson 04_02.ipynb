{
 "cells": [
  {
   "cell_type": "code",
   "execution_count": 1,
   "metadata": {},
   "outputs": [],
   "source": [
    "import numpy\n",
    "from matplotlib import pyplot\n",
    "%matplotlib inline"
   ]
  },
  {
   "cell_type": "code",
   "execution_count": 2,
   "metadata": {},
   "outputs": [],
   "source": [
    "pyplot.rcParams['font.family'] = 'serif'\n",
    "pyplot.rcParams['font.size'] = 16"
   ]
  },
  {
   "cell_type": "code",
   "execution_count": 3,
   "metadata": {},
   "outputs": [],
   "source": [
    "L = 1.0\n",
    "nx = 51\n",
    "dx = L / (nx - 1)\n",
    "alpha = 1.22e-3\n",
    "q = 0.0\n",
    "\n",
    "x = numpy.linspace(0.0, L, num=nx)\n",
    "\n",
    "# initial condition\n",
    "T0 = numpy.zeros_like(x)\n",
    "T0[0] = 100.0"
   ]
  },
  {
   "cell_type": "markdown",
   "metadata": {},
   "source": [
    "## Solving Linear System"
   ]
  },
  {
   "cell_type": "code",
   "execution_count": 4,
   "metadata": {},
   "outputs": [],
   "source": [
    "from scipy import linalg"
   ]
  },
  {
   "cell_type": "code",
   "execution_count": 6,
   "metadata": {},
   "outputs": [],
   "source": [
    "def lhs_operator(nx, sigma):\n",
    "    D = numpy.diag((2.0 + 1.0 / sigma) * numpy.ones(nx - 2))\n",
    "    # Neumann condition\n",
    "    D[-1, -1] = 1.0 + 1.0 / sigma\n",
    "    U = numpy.diag(-1.0 * numpy.ones(nx - 3), k=1)\n",
    "    L = numpy.diag(-1.0 * numpy.ones(nx - 3), k=-1)\n",
    "    A = D + U + L\n",
    "    return A"
   ]
  },
  {
   "cell_type": "code",
   "execution_count": 7,
   "metadata": {},
   "outputs": [
    {
     "name": "stdout",
     "output_type": "stream",
     "text": [
      "[[2. 0. 0.]\n",
      " [0. 2. 0.]\n",
      " [0. 0. 2.]]\n",
      "[[0. 2. 0. 0.]\n",
      " [0. 0. 2. 0.]\n",
      " [0. 0. 0. 2.]\n",
      " [0. 0. 0. 0.]]\n",
      "[[0. 0. 0. 0.]\n",
      " [2. 0. 0. 0.]\n",
      " [0. 2. 0. 0.]\n",
      " [0. 0. 2. 0.]]\n"
     ]
    }
   ],
   "source": [
    "# test of numpy.diag\n",
    "print(numpy.diag(2.0 * numpy.ones(3), k=0))\n",
    "print(numpy.diag(2.0 * numpy.ones(3), k=1))\n",
    "print(numpy.diag(2.0 * numpy.ones(3), k=-1))"
   ]
  },
  {
   "cell_type": "code",
   "execution_count": 8,
   "metadata": {},
   "outputs": [
    {
     "name": "stdout",
     "output_type": "stream",
     "text": [
      "[[ 3. -1.  0.  0.  0.]\n",
      " [-1.  3. -1.  0.  0.]\n",
      " [ 0. -1.  3. -1.  0.]\n",
      " [ 0.  0. -1.  3. -1.]\n",
      " [ 0.  0.  0. -1.  2.]]\n"
     ]
    }
   ],
   "source": [
    "print(lhs_operator(nx=7, sigma=1.0))"
   ]
  },
  {
   "cell_type": "code",
   "execution_count": 9,
   "metadata": {},
   "outputs": [],
   "source": [
    "def rhs_vector(T, sigma, q, dx):\n",
    "    b = T[1:-1] / sigma\n",
    "    # Dirichlet condition\n",
    "    b[0] += T[0]\n",
    "    # Neumann condition\n",
    "    b[-1] += q * dx\n",
    "    return b"
   ]
  },
  {
   "cell_type": "code",
   "execution_count": 13,
   "metadata": {},
   "outputs": [],
   "source": [
    "def btcs(T0, nt, dt, dx, alpha, q):\n",
    "    sigma = alpha * dt / dx**2\n",
    "    A = lhs_operator(nx, sigma)\n",
    "    T = T0.copy()\n",
    "    for n in range(nt):\n",
    "        b = rhs_vector(T, sigma, q, dx)\n",
    "        T[1:-1] = linalg.solve(A, b)\n",
    "        # Neumann boundary condition\n",
    "        T[-1] = T[-2] + q * dx\n",
    "    return T"
   ]
  },
  {
   "cell_type": "code",
   "execution_count": 17,
   "metadata": {},
   "outputs": [],
   "source": [
    "# set CFL\n",
    "# the implicit method is more stable but longer computing time\n",
    "sigma = 5.0\n",
    "dt = sigma * dx**2 / alpha\n",
    "nt = 1000\n",
    "\n",
    "T = btcs(T0, nt, dt, dx, alpha, q)"
   ]
  },
  {
   "cell_type": "code",
   "execution_count": 18,
   "metadata": {},
   "outputs": [
    {
     "data": {
      "image/png": "[encoded data removed]",
      "text/plain": [
       "<Figure size 432x288 with 1 Axes>"
      ]
     },
     "metadata": {},
     "output_type": "display_data"
    }
   ],
   "source": [
    "pyplot.plot(x, T);"
   ]
  },
  {
   "cell_type": "code",
   "execution_count": null,
   "metadata": {},
   "outputs": [],
   "source": []
  }
 ],
 "metadata": {
  "kernelspec": {
   "display_name": "Python 3",
   "language": "python",
   "name": "python3"
  },
  "language_info": {
   "codemirror_mode": {
    "name": "ipython",
    "version": 3
   },
   "file_extension": ".py",
   "mimetype": "text/x-python",
   "name": "python",
   "nbconvert_exporter": "python",
   "pygments_lexer": "ipython3",
   "version": "3.6.2"
  }
 },
 "nbformat": 4,
 "nbformat_minor": 2
}
