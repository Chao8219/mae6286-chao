{
 "cells": [
  {
   "cell_type": "markdown",
   "metadata": {},
   "source": [
    "## Half-Half Method"
   ]
  },
  {
   "cell_type": "code",
   "execution_count": 1,
   "metadata": {},
   "outputs": [],
   "source": [
    "import numpy\n",
    "from scipy import linalg\n",
    "from matplotlib import pyplot\n",
    "%matplotlib inline"
   ]
  },
  {
   "cell_type": "code",
   "execution_count": null,
   "metadata": {},
   "outputs": [],
   "source": []
  },
  {
   "cell_type": "code",
   "execution_count": 2,
   "metadata": {},
   "outputs": [],
   "source": [
    "L = 1.0\n",
    "nx = 51\n",
    "dx = L / (nx - 1)\n",
    "x = numpy.linspace(0.0, L, num=nx)\n",
    "\n",
    "alpha = 1.22e-3 # thermal diffusivity\n",
    "\n",
    "# initial temperature\n",
    "T0 = numpy.zeros(nx)\n",
    "T0[0] = 100.0"
   ]
  },
  {
   "cell_type": "code",
   "execution_count": 3,
   "metadata": {},
   "outputs": [],
   "source": [
    "def solve_1d(T0, nt, dt, dx, alpha, cI, cE, bc):\n",
    "    T = T0.copy()\n",
    "    N = len(T0) - 2\n",
    "    A, b_bc = lhs_operator(N, dt, dx, alpha, cI, bc)\n",
    "    for n in range(nt):\n",
    "        b = rhs_vector(T, dt, dx, alpha, cE)\n",
    "        T[1:-1] = linalg.solve(A, b - b_bc)\n",
    "        update_boundaries(T, dx, bc)\n",
    "    return T"
   ]
  },
  {
   "cell_type": "code",
   "execution_count": 4,
   "metadata": {},
   "outputs": [],
   "source": [
    "def lhs_operator(N, dt, dx, alpha, cI, bc):\n",
    "    I = numpy.identity(N)\n",
    "    L, b_bc = laplacian_1d(N, dx, bc)\n",
    "    A = I / dt - cI * alpha * L\n",
    "    return A, b_bc"
   ]
  },
  {
   "cell_type": "code",
   "execution_count": 5,
   "metadata": {},
   "outputs": [],
   "source": [
    "def rhs_vector(T, dt, dx, alpha, cE):\n",
    "    b = T[1:-1] / dt + cE * alpha * (T[:-2] - 2 * T[1:-1] + T[2:]) / dx**2 \n",
    "    return b"
   ]
  },
  {
   "cell_type": "code",
   "execution_count": 6,
   "metadata": {},
   "outputs": [],
   "source": [
    "def update_boundaries(T, dx, bc):\n",
    "    T[0] = get_bounday_value(T[1], dx, bc['left'])\n",
    "    T[-1] = get_bounday_value(T[-2], dx, bc['right'])\n",
    "    return "
   ]
  },
  {
   "cell_type": "code",
   "execution_count": 7,
   "metadata": {},
   "outputs": [],
   "source": [
    "def laplacian_1d(N, dx, bc):\n",
    "    D = numpy.diag(-2.0 / dx**2 * numpy.ones(N))\n",
    "    L = numpy.diag(1.0 / dx**2 * numpy.ones(N-1), k=-1)\n",
    "    U = numpy.diag(1.0 / dx**2 *numpy.ones(N-1), k=+1)\n",
    "    A = D + U + L\n",
    "    b_bc = numpy.zeros(N)\n",
    "    # Left boundary\n",
    "    if bc['left']['type'] == 'Dirichlet':\n",
    "        b_bc[0] = bc['left']['value'] / dx**2\n",
    "    elif bc['left']['type'] == 'Neumann':\n",
    "        A[0, 0] = -1.0 / dx**2\n",
    "        b_bc[0] = bc['left']['value'] / dx\n",
    "    # Right bounday\n",
    "    if bc['right']['type'] == 'Dirichlet':\n",
    "        b_bc[-1] = bc['right']['value'] / dx**2\n",
    "    elif bc['right']['type'] == 'Neumann':\n",
    "        A[-1, -1] = -1.0 / dx**2\n",
    "        b_bc[0] = bc['right']['value'] / dx\n",
    "    return A, b_bc"
   ]
  },
  {
   "cell_type": "code",
   "execution_count": 8,
   "metadata": {},
   "outputs": [
    {
     "name": "stdout",
     "output_type": "stream",
     "text": [
      "Dirichlet\n"
     ]
    }
   ],
   "source": [
    "bc_left = {'type': 'Dirichlet', 'value': 100.0}\n",
    "bc_right = {'type': 'Neumann', 'value': 0.0}\n",
    "bc = {'left': bc_left, 'right': bc_right}\n",
    "print(bc['left']['type'])"
   ]
  },
  {
   "cell_type": "code",
   "execution_count": 9,
   "metadata": {},
   "outputs": [],
   "source": [
    "def get_bounday_value(T_neighbor, dx, bc):\n",
    "    if bc['type'] == 'Dirichlet':\n",
    "        return bc['value']\n",
    "    elif bc['type'] == 'Neumann':\n",
    "        return T_neighbor + bc['value'] * dx\n",
    "    else:\n",
    "        raise ValueError('Only Dirichlet and Neumann are supported')\n",
    "    return "
   ]
  },
  {
   "cell_type": "code",
   "execution_count": 10,
   "metadata": {},
   "outputs": [],
   "source": [
    "sigma = 0.5\n",
    "dt = sigma * dx**2 / alpha\n",
    "nt = 100\n",
    "\n",
    "cI = 0.5\n",
    "cE = 0.5\n",
    "T = solve_1d(T0, nt, dt, dx, alpha, cI, cE, bc)"
   ]
  },
  {
   "cell_type": "code",
   "execution_count": 14,
   "metadata": {},
   "outputs": [
    {
     "data": {
      "image/png": "[encoded data removed]",
      "text/plain": [
       "<Figure size 432x288 with 1 Axes>"
      ]
     },
     "metadata": {},
     "output_type": "display_data"
    }
   ],
   "source": [
    "pyplot.figure(figsize=(6.0, 4.0))\n",
    "pyplot.xlabel('x')\n",
    "pyplot.ylabel('T')\n",
    "pyplot.grid()\n",
    "\n",
    "cI = 0.5\n",
    "cE = 0.5\n",
    "T = solve_1d(T0, nt, dt, dx, alpha, cI, cE, bc)\n",
    "pyplot.plot(x, T, label='Crank-Nicolson')\n",
    "\n",
    "cI = 0.0\n",
    "cE = 1.0\n",
    "T = solve_1d(T0, nt, dt, dx, alpha, cI, cE, bc)\n",
    "pyplot.plot(x, T, label='Explicit')\n",
    "\n",
    "cI = 1.0\n",
    "cE = 0.0\n",
    "T = solve_1d(T0, nt, dt, dx, alpha, cI, cE, bc)\n",
    "pyplot.plot(x, T, label='Implicit')\n",
    "\n",
    "pyplot.legend()\n",
    "pyplot.xlim(0.0, L)\n",
    "pyplot.ylim(0.0, 100.0);"
   ]
  },
  {
   "cell_type": "code",
   "execution_count": 15,
   "metadata": {},
   "outputs": [],
   "source": [
    "def analytical_temperature(x, t, alpha, L, N):\n",
    "    \"\"\"\n",
    "    Computes and returns a truncated approximation\n",
    "    of the exact temperature distribution along the rod.\n",
    "    \n",
    "    Parameters\n",
    "    ----------\n",
    "    x : numpy.ndarray\n",
    "        Locations at which to calculate the temperature\n",
    "        as a 1D array of floats.\n",
    "    t : float\n",
    "        Time.\n",
    "    alpha : float\n",
    "        Thermal diffusivity of the rod.\n",
    "    L : float\n",
    "        Length of the rod.\n",
    "    N : integer\n",
    "        Number of terms to use in the expansion.\n",
    "    \n",
    "    Returns\n",
    "    -------\n",
    "    T : numpy.ndarray\n",
    "        The truncated analytical temperature distribution\n",
    "        as a 1D array of floats.\n",
    "    \"\"\"\n",
    "    T = 100.0 * numpy.ones_like(x)\n",
    "    for n in range(1, N + 1):\n",
    "        k = (2 * n - 1) * numpy.pi / (2.0 * L)\n",
    "        T -= (400.0 / (2.0 * L * k) *\n",
    "              numpy.sin(k * x) * numpy.exp(- alpha * k**2 * t))\n",
    "    return T"
   ]
  },
  {
   "cell_type": "code",
   "execution_count": 22,
   "metadata": {},
   "outputs": [
    {
     "data": {
      "image/png": "[encoded data removed]",
      "text/plain": [
       "<Figure size 432x288 with 1 Axes>"
      ]
     },
     "metadata": {},
     "output_type": "display_data"
    }
   ],
   "source": [
    "pyplot.figure(figsize=(6.0, 4.0))\n",
    "pyplot.xlabel('x')\n",
    "pyplot.ylabel('T')\n",
    "pyplot.grid()\n",
    "\n",
    "cI = 0.5\n",
    "cE = 0.5\n",
    "T = solve_1d(T0, nt, dt, dx, alpha, cI, cE, bc)\n",
    "pyplot.plot(x, T, label='Crank-Nicolson')\n",
    "\n",
    "cI = 0.0\n",
    "cE = 1.0\n",
    "T = solve_1d(T0, nt, dt, dx, alpha, cI, cE, bc)\n",
    "pyplot.plot(x, T, label='Explicit', linewidth=6, linestyle='--')\n",
    "\n",
    "cI = 1.0\n",
    "cE = 0.0\n",
    "T = solve_1d(T0, nt, dt, dx, alpha, cI, cE, bc)\n",
    "pyplot.plot(x, T, label='Implicit')\n",
    "\n",
    "T = analytical_temperature(x, nt*dt, alpha, L, N=1000)\n",
    "pyplot.plot(x, T, label='analytical_temperature')\n",
    "\n",
    "pyplot.legend()\n",
    "pyplot.xlim(0.0, L)\n",
    "pyplot.ylim(0.0, 100.0);"
   ]
  },
  {
   "cell_type": "code",
   "execution_count": null,
   "metadata": {},
   "outputs": [],
   "source": []
  },
  {
   "cell_type": "code",
   "execution_count": null,
   "metadata": {},
   "outputs": [],
   "source": []
  }
 ],
 "metadata": {
  "kernelspec": {
   "display_name": "Python 3",
   "language": "python",
   "name": "python3"
  },
  "language_info": {
   "codemirror_mode": {
    "name": "ipython",
    "version": 3
   },
   "file_extension": ".py",
   "mimetype": "text/x-python",
   "name": "python",
   "nbconvert_exporter": "python",
   "pygments_lexer": "ipython3",
   "version": "3.6.2"
  }
 },
 "nbformat": 4,
 "nbformat_minor": 2
}
