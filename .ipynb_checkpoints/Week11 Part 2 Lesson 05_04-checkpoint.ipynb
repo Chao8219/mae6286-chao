{
 "cells": [
  {
   "cell_type": "markdown",
   "metadata": {},
   "source": [
    "## 0. Preparation"
   ]
  },
  {
   "cell_type": "code",
   "execution_count": 1,
   "metadata": {},
   "outputs": [],
   "source": [
    "import numpy\n",
    "from matplotlib import pyplot\n",
    "%matplotlib inline\n",
    "pyplot.rcParams['font.family'] = 'serif'\n",
    "pyplot.rcParams['font.size'] = 16"
   ]
  },
  {
   "cell_type": "code",
   "execution_count": 2,
   "metadata": {},
   "outputs": [],
   "source": [
    "from helper import l2_norm, poisson_2d_jacobi, poisson_solution"
   ]
  },
  {
   "cell_type": "code",
   "execution_count": 3,
   "metadata": {},
   "outputs": [],
   "source": [
    "# parameters\n",
    "nx, ny = 101, 101\n",
    "x_begin, x_end = 0.0, 1.0\n",
    "y_begin, y_end = -0.5, 0.5\n",
    "Lx = x_end - x_begin\n",
    "Ly = y_end - y_begin\n",
    "dx = Lx / (nx - 1)\n",
    "dy = Ly / (ny - 1)\n",
    "\n",
    "x = numpy.linspace(x_begin, x_end, num=nx)\n",
    "y = numpy.linspace(y_begin, y_end, num=ny)\n",
    "X, Y = numpy.meshgrid(x, y)\n",
    "\n",
    "# Source term\n",
    "b_for_cg_method = (numpy.sin(numpy.pi * X / Lx) * \n",
    "                 numpy.cos(numpy.pi * Y / Ly) + \n",
    "                 numpy.sin(6.0 * numpy.pi * X / Lx) * \n",
    "                 numpy.cos(6.0 * numpy.pi * Y / Ly))\n",
    "\n",
    "b = (-2.0 * (numpy.pi / 2)**2 *\n",
    "     numpy.sin(numpy.pi * X / Lx) *\n",
    "     numpy.cos(numpy.pi * Y / Ly))\n",
    "\n",
    "p0 = numpy.zeros((ny, nx))\n",
    "\n",
    "p_exact = poisson_solution(x, y, Lx, Ly)"
   ]
  },
  {
   "cell_type": "markdown",
   "metadata": {},
   "source": [
    "## 1. Steepest Descent"
   ]
  },
  {
   "cell_type": "markdown",
   "metadata": {},
   "source": [
    "### Note\n",
    "A is a matrix formally speaking. But in this case, Ap = b, and in the left-hand side, it actually is the laplacian operation to p."
   ]
  },
  {
   "cell_type": "code",
   "execution_count": 4,
   "metadata": {},
   "outputs": [],
   "source": [
    "def poisson_2d_steepest_descent(p0, b, dx, dy, maxit=20000, rtol=1e-6):\n",
    "    # Laplacian operator A\n",
    "    def A(p):\n",
    "        return (-4.0 * p[1:-1, 1:-1] + p[1:-1, :-2] + p[1:-1, 2:] + \n",
    "               p[:-2, 1:-1] + p[2:, 1:-1]) / dx**2\n",
    "    p = p0.copy()\n",
    "    # initial residual\n",
    "    r = numpy.zeros_like(p)\n",
    "    Ar = numpy.zeros_like(p)\n",
    "    conv = []\n",
    "    rdiff = rtol + 1.0\n",
    "    ite = 0\n",
    "    while rdiff > rtol and ite < maxit:\n",
    "        pk = p.copy()\n",
    "        r[1:-1, 1:-1] = b[1:-1, 1:-1] - A(p)\n",
    "        Ar[1:-1, 1:-1] = A(r)\n",
    "        alpha = numpy.sum(r * r) / numpy.sum(r * Ar)\n",
    "        p = pk + alpha * r\n",
    "        # Dirichlet boundaries\n",
    "        rdiff = l2_norm(p, pk)\n",
    "        conv.append(rdiff)\n",
    "        ite += 1\n",
    "    return p, ite, conv"
   ]
  },
  {
   "cell_type": "code",
   "execution_count": 5,
   "metadata": {},
   "outputs": [
    {
     "name": "stdout",
     "output_type": "stream",
     "text": [
      "The ite is:  2  and the final relative error is:  1.3307695446303778e-16\n"
     ]
    }
   ],
   "source": [
    "p, ite, conv = poisson_2d_steepest_descent(p0, b, dx, dy, maxit=20000, rtol=1e-10)\n",
    "print(\"The ite is: \", ite, \" and the final relative error is: \", conv[-1])"
   ]
  },
  {
   "cell_type": "code",
   "execution_count": 6,
   "metadata": {},
   "outputs": [
    {
     "name": "stdout",
     "output_type": "stream",
     "text": [
      "The error with exact solution is:  0.7499794373094477\n"
     ]
    }
   ],
   "source": [
    "# See the error with exact solution\n",
    "print(\"The error with exact solution is: \", l2_norm(p, p_exact))"
   ]
  },
  {
   "cell_type": "code",
   "execution_count": null,
   "metadata": {},
   "outputs": [],
   "source": []
  }
 ],
 "metadata": {
  "kernelspec": {
   "display_name": "Python 3",
   "language": "python",
   "name": "python3"
  },
  "language_info": {
   "codemirror_mode": {
    "name": "ipython",
    "version": 3
   },
   "file_extension": ".py",
   "mimetype": "text/x-python",
   "name": "python",
   "nbconvert_exporter": "python",
   "pygments_lexer": "ipython3",
   "version": "3.6.2"
  }
 },
 "nbformat": 4,
 "nbformat_minor": 2
}
