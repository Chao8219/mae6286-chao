{
 "cells": [
  {
   "cell_type": "code",
   "execution_count": 1,
   "metadata": {},
   "outputs": [],
   "source": [
    "import math\n",
    "import numpy\n",
    "from matplotlib import pyplot\n",
    "%matplotlib inline\n",
    "from matplotlib import rcParams\n",
    "rcParams['font.family'] = 'serif'\n",
    "rcParams['font.size'] = 16"
   ]
  },
  {
   "cell_type": "code",
   "execution_count": 2,
   "metadata": {},
   "outputs": [],
   "source": [
    "# initialization\n",
    "g = 9.8\n",
    "vt = 40.00 # trim velocity\n",
    "CD = 1/40 # drag coefficient\n",
    "CL = 1 # lift coefficient\n",
    "\n",
    "# initial condition\n",
    "v0 = vt # initial velocity\n",
    "theta0 = 0 # initial angle\n",
    "x0 = 0 # initial x-position\n",
    "y0 = 2333 # initial y-position"
   ]
  },
  {
   "cell_type": "code",
   "execution_count": 3,
   "metadata": {},
   "outputs": [],
   "source": [
    "def f(u):\n",
    "    \"\"\"\n",
    "    Returns the right-hand side of the phugoid system of equations.\n",
    "    \n",
    "    Parameters\n",
    "    ----------\n",
    "    u : array of float\n",
    "        array containing the solution at time n.\n",
    "        \n",
    "    Returns\n",
    "    -------\n",
    "    dudt : array of float\n",
    "        array containing the RHS given u.\n",
    "    \"\"\"\n",
    "    v = u[0]\n",
    "    theta = u[1]\n",
    "    x = u[2]\n",
    "    y = u[3]\n",
    "    term1 = -g*math.sin(theta) - C_D/C_L*g/v_t**2*v**2\n",
    "    term2 = -g*math.cos(theta)/v + g/v_t**2*v\n",
    "    term3 = v*math.cos(theta)\n",
    "    term4 = v*math.sin(theta)\n",
    "    return numpy.array([term1,term2,term3,term4])"
   ]
  },
  {
   "cell_type": "code",
   "execution_count": 4,
   "metadata": {},
   "outputs": [],
   "source": [
    "def rhs_phugoid(u, CL, CD, g, vt):\n",
    "    \"\"\"\n",
    "    Returns the right-hand side of the phugoid system of equations.\n",
    "    \n",
    "    Parameters\n",
    "    ----------\n",
    "    u : list or numpy.ndarray\n",
    "        Solution at the previous time step\n",
    "        as a list or 1D array of four floats.\n",
    "    CL : float\n",
    "        Lift coefficient.\n",
    "    CD : float\n",
    "        Drag coefficient.\n",
    "    g : float\n",
    "        Gravitational acceleration.\n",
    "    vt : float\n",
    "        Trim velocity.\n",
    "    \n",
    "    Returns\n",
    "    -------\n",
    "    rhs : numpy.ndarray\n",
    "        The right-hand side of the system\n",
    "        as a 1D array of four floats.\n",
    "    \"\"\"\n",
    "    v, theta, x, y = u\n",
    "    rhs = numpy.array([-g * math.sin(theta) - CD / CL * g / vt**2 * v**2,\n",
    "                       -g * math.cos(theta) / v + g / vt**2 * v,\n",
    "                       v * math.cos(theta),\n",
    "                       v * math.sin(theta)])\n",
    "    return rhs"
   ]
  },
  {
   "cell_type": "code",
   "execution_count": 5,
   "metadata": {},
   "outputs": [],
   "source": [
    "def euler_step(u, f, dt, *args):\n",
    "    \"\"\"\n",
    "    Returns the solution at the next time-step using Euler's method.\n",
    "    \n",
    "    Parameters\n",
    "    ----------\n",
    "    u : array of float\n",
    "        solution at the previous time-step.\n",
    "    f : function\n",
    "        function to compute the right hand-side of the system of equations.\n",
    "    dt : float\n",
    "        time-increment.\n",
    "    \n",
    "    Returns\n",
    "    -------\n",
    "    u_n_plus_1 : array of float\n",
    "        approximate solution at the next time step.\n",
    "    \"\"\"\n",
    "    return u + dt * f(u, *args)"
   ]
  },
  {
   "cell_type": "code",
   "execution_count": 101,
   "metadata": {},
   "outputs": [],
   "source": [
    "T = 100 # final time\n",
    "dt = 0.1 # time step\n",
    "N = int(T/dt) + 1 # number of time step\n",
    "\n",
    "u = numpy.empty((N, 4)) # N by 4\n",
    "u[0] = numpy.array([v0, theta0, x0, y0]) # assign the initial values\n",
    "\n",
    "# solve it by Euler method\n",
    "for n in range(N-1):\n",
    "    u[n+1] = euler_step(u[n], rhs_phugoid, dt, CL, CD, g, vt)"
   ]
  },
  {
   "cell_type": "code",
   "execution_count": 102,
   "metadata": {},
   "outputs": [],
   "source": [
    "# get positions\n",
    "x = u[:,2]\n",
    "y = u[:,3]"
   ]
  },
  {
   "cell_type": "code",
   "execution_count": 103,
   "metadata": {},
   "outputs": [
    {
     "data": {
      "image/png": "[encoded data removed]",
      "text/plain": [
       "<Figure size 576x432 with 1 Axes>"
      ]
     },
     "metadata": {},
     "output_type": "display_data"
    }
   ],
   "source": [
    "# plot it\n",
    "pyplot.figure(figsize=(8,6))\n",
    "pyplot.grid(True)\n",
    "pyplot.xlabel(r'x', fontsize=18)\n",
    "pyplot.ylabel(r'y', fontsize=18)\n",
    "pyplot.title('Glider trajectory, flight time = %.2f' % T, fontsize=18)\n",
    "pyplot.plot(x,y, 'k-', lw=2);"
   ]
  },
  {
   "cell_type": "markdown",
   "metadata": {},
   "source": [
    "## class"
   ]
  },
  {
   "cell_type": "code",
   "execution_count": 9,
   "metadata": {},
   "outputs": [],
   "source": [
    "class ABC:\n",
    "    def __init__(self):\n",
    "        self.word = \"Coool\"\n",
    "    def NotCool(self):\n",
    "        self.word = \"Not Coool\"\n",
    "    def NewWord(self, new_word):\n",
    "        self.word = new_word"
   ]
  },
  {
   "cell_type": "code",
   "execution_count": 10,
   "metadata": {},
   "outputs": [
    {
     "data": {
      "text/plain": [
       "'Coool'"
      ]
     },
     "execution_count": 10,
     "metadata": {},
     "output_type": "execute_result"
    }
   ],
   "source": [
    "object_sample = ABC()\n",
    "object_sample.word"
   ]
  },
  {
   "cell_type": "code",
   "execution_count": 11,
   "metadata": {},
   "outputs": [
    {
     "data": {
      "text/plain": [
       "'Not Coool'"
      ]
     },
     "execution_count": 11,
     "metadata": {},
     "output_type": "execute_result"
    }
   ],
   "source": [
    "object_sample.NotCool()\n",
    "object_sample.word"
   ]
  },
  {
   "cell_type": "code",
   "execution_count": 12,
   "metadata": {},
   "outputs": [
    {
     "data": {
      "text/plain": [
       "'Jesus'"
      ]
     },
     "execution_count": 12,
     "metadata": {},
     "output_type": "execute_result"
    }
   ],
   "source": [
    "object_sample.NewWord(\"Jesus\")\n",
    "object_sample.word"
   ]
  },
  {
   "cell_type": "markdown",
   "metadata": {},
   "source": [
    "## class over"
   ]
  },
  {
   "cell_type": "markdown",
   "metadata": {
    "collapsed": true
   },
   "source": [
    "## Grid convergence"
   ]
  },
  {
   "cell_type": "code",
   "execution_count": 13,
   "metadata": {},
   "outputs": [],
   "source": [
    "# different grids\n",
    "dt_values = [0.1, 0.05, 0.01, 0.005, 0.001]\n",
    "\n",
    "# empty list for solutions\n",
    "u_values = []\n",
    "\n",
    "for dt in dt_values:\n",
    "    N = int(T/dt) + 1\n",
    "    u = numpy.empty((N,4)) # N by 4 empty array\n",
    "    u[0] = numpy.array([v0, theta0, x0, y0]) # initial conditions\n",
    "    for n in range(N-1):\n",
    "        u[n+1] = euler_step(u[n], rhs_phugoid, dt, CL, CD, g, vt)\n",
    "    u_values.append(u)"
   ]
  },
  {
   "cell_type": "code",
   "execution_count": 14,
   "metadata": {},
   "outputs": [],
   "source": [
    "def l1_diff(u_coarse, u_fine, dt):\n",
    "    \"\"\"\n",
    "    Returns the difference in the L1-norm between the solution on\n",
    "    a coarse grid and the solution on a fine grid.\n",
    "    \n",
    "    Parameters\n",
    "    ----------\n",
    "    u_coarse : numpy.ndarray\n",
    "        Solution on the coarse grid as an array of floats.\n",
    "    u_fine : numpy.ndarray\n",
    "        Solution on the fine grid as an array of floats.\n",
    "    dt : float\n",
    "        Time-step size.\n",
    "    \n",
    "    Returns\n",
    "    -------\n",
    "    diff : float\n",
    "        The difference between the two solutions in the L1-norm\n",
    "        scaled by the time-step size.\n",
    "    \"\"\"\n",
    "    N_coarse = len(u_coarse)\n",
    "    N_fine = len(u_fine)\n",
    "    ratio = math.ceil(N_fine / N_coarse)\n",
    "    # u_fine[::ration] means it takes sample from it begin to\n",
    "    # the end, seperated by ratio\n",
    "    diff = dt * numpy.sum(numpy.abs(u_coarse - u_fine[::ratio]))\n",
    "    return diff"
   ]
  },
  {
   "cell_type": "code",
   "execution_count": 15,
   "metadata": {},
   "outputs": [],
   "source": [
    "# computing error down below\n",
    "diff_values = []\n",
    "\n",
    "# from dt_values first to last\n",
    "for i, dt in enumerate(dt_values[:-1]):\n",
    "    diff = l1_diff(u_values[i][:, 2], u_values[-1][:, 2], dt)\n",
    "    diff_values.append(diff)"
   ]
  },
  {
   "cell_type": "code",
   "execution_count": 16,
   "metadata": {},
   "outputs": [
    {
     "data": {
      "image/png": "[encoded data removed]",
      "text/plain": [
       "<Figure size 432x432 with 1 Axes>"
      ]
     },
     "metadata": {},
     "output_type": "display_data"
    }
   ],
   "source": [
    "# plot:\n",
    "pyplot.figure(figsize=(6.0, 6.0))\n",
    "pyplot.title('L1-norm difference vs. time-step size')  # set the title\n",
    "pyplot.xlabel('$\\Delta t$')  # set the x-axis label\n",
    "pyplot.ylabel('Difference')  # set the y-axis label\n",
    "pyplot.grid()\n",
    "pyplot.loglog(dt_values[:-1], diff_values,\n",
    "              color='C0', linestyle='--', marker='o')  # log-log plot\n",
    "pyplot.axis('equal');  # make axes scale equally"
   ]
  },
  {
   "cell_type": "markdown",
   "metadata": {},
   "source": [
    "## Order of convergence"
   ]
  },
  {
   "cell_type": "code",
   "execution_count": 17,
   "metadata": {
    "scrolled": true
   },
   "outputs": [
    {
     "name": "stdout",
     "output_type": "stream",
     "text": [
      "The observed order of convergence: p = 1.008\n"
     ]
    }
   ],
   "source": [
    "r = 2 # a constant ratio\n",
    "h = 0.001 # finest grid\n",
    "\n",
    "dt_values2 = [h, r*h, r**2*h] # h, 2h, 4h - three grids\n",
    "\n",
    "u_values2 = []\n",
    "\n",
    "for dt in dt_values2:\n",
    "    N = int(T/dt) + 1\n",
    "    \n",
    "    # initialization\n",
    "    u = numpy.empty((N,4))\n",
    "    u[0] = numpy.array([v0, theta0, x0, y0])\n",
    "    \n",
    "    for n in range(N-1):\n",
    "        u[n+1] = euler_step(u[n], rhs_phugoid, dt, CL, CD, g, vt)\n",
    "    \n",
    "    u_values2.append(u)\n",
    "    \n",
    "# calculate f2 - f1\n",
    "f2_f1 = l1_diff(u_values2[1][:, 2], u_values2[0][:, 2], dt_values2[1])\n",
    "\n",
    "# calculate f3 - f2\n",
    "f3_f2 = l1_diff(u_values2[2][:,2], u_values2[1][:, 2], dt_values2[2])\n",
    "\n",
    "# calculate the observed order of convergence\n",
    "p = math.log(f3_f2/f2_f1)/math.log(r)\n",
    "print(\"The observed order of convergence: p = {:.3f}\".format(p))"
   ]
  },
  {
   "cell_type": "markdown",
   "metadata": {},
   "source": [
    "### Paper Airplane Challenge"
   ]
  },
  {
   "cell_type": "code",
   "execution_count": 174,
   "metadata": {},
   "outputs": [],
   "source": [
    "vt_paper = 4.9 # paper airplane trim velocity\n",
    "CD_paper = 1/50.0\n",
    "CL_paper = 1.0\n",
    "x0_paper = 0.0\n",
    "y0_paper = 2.0 # given initial height is 2 meters\n",
    "dt_paper = 0.001 # set up grid\n",
    "T_paper = 100 # time length\n",
    "N_paper = int(T_paper/dt_paper) + 1\n",
    "\n",
    "u_paper = numpy.empty((N_paper, 4))"
   ]
  },
  {
   "cell_type": "code",
   "execution_count": 181,
   "metadata": {},
   "outputs": [],
   "source": [
    "# give a casual value of initial speed and angle\n",
    "# the max speed of paper airplane could be set to 42 m/s, which could be found\n",
    "# [here](https://www.quora.com/What-is-the-maximum-speed-a-paper-plane-can-be-launched-by-hand)\n",
    "# the angle could go from -90 degree to 90 degree.\n",
    "v0_paper_max = 42.0\n",
    "v0_paper_min = 0.2 # avoid 0 division problem\n",
    "d_v0_paper = 0.2 # initial speed resolution\n",
    "\n",
    "theta0_paper_max = numpy.pi/180*(90)\n",
    "theta0_paper_min = numpy.pi/180*(-90)\n",
    "d_theta0_paper = numpy.pi/180*(1)\n",
    "\n",
    "# unfinished down below\n",
    "v0_paper = 36.9\n",
    "theta0_paper = numpy.pi/180*(-90)\n",
    "\n",
    "u_paper[0] = numpy.array([v0_paper, theta0_paper, x0_paper, y0_paper])"
   ]
  },
  {
   "cell_type": "code",
   "execution_count": 182,
   "metadata": {},
   "outputs": [],
   "source": [
    "for n_paper in range(N_paper-1):\n",
    "    u_paper[n_paper+1] = euler_step(u_paper[n_paper], rhs_phugoid, dt_paper, CL_paper, CD_paper, g, vt_paper)"
   ]
  },
  {
   "cell_type": "code",
   "execution_count": 183,
   "metadata": {},
   "outputs": [
    {
     "data": {
      "image/png": "[encoded data removed]",
      "text/plain": [
       "<Figure size 648x288 with 1 Axes>"
      ]
     },
     "metadata": {},
     "output_type": "display_data"
    }
   ],
   "source": [
    "# plot:\n",
    "x_paper = u_paper[:, 2]\n",
    "y_paper = u_paper[:, 3]\n",
    "\n",
    "pyplot.figure(figsize=(9.0, 4.0))\n",
    "pyplot.title('Path of the glider (flight time = {})'.format(T_paper))\n",
    "pyplot.xlabel('x')\n",
    "pyplot.ylabel('y')\n",
    "pyplot.grid()\n",
    "pyplot.plot(x_paper, y_paper, color='C0', linestyle='-', linewidth=2);"
   ]
  },
  {
   "cell_type": "code",
   "execution_count": null,
   "metadata": {},
   "outputs": [],
   "source": []
  }
 ],
 "metadata": {
  "anaconda-cloud": {},
  "kernelspec": {
   "display_name": "Python 3",
   "language": "python",
   "name": "python3"
  },
  "language_info": {
   "codemirror_mode": {
    "name": "ipython",
    "version": 3
   },
   "file_extension": ".py",
   "mimetype": "text/x-python",
   "name": "python",
   "nbconvert_exporter": "python",
   "pygments_lexer": "ipython3",
   "version": "3.6.2"
  }
 },
 "nbformat": 4,
 "nbformat_minor": 1
}
