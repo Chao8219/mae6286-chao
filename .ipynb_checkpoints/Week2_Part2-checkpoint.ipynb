{
 "cells": [
  {
   "cell_type": "code",
   "execution_count": 1,
   "metadata": {},
   "outputs": [],
   "source": [
    "import numpy\n",
    "from matplotlib import pyplot\n",
    "%matplotlib inline"
   ]
  },
  {
   "cell_type": "code",
   "execution_count": 10,
   "metadata": {},
   "outputs": [
    {
     "data": {
      "text/plain": [
       "array([0.000e+00, 2.000e-02, 4.000e-02, ..., 9.996e+01, 9.998e+01,\n",
       "       1.000e+02])"
      ]
     },
     "metadata": {},
     "output_type": "display_data"
    },
    {
     "data": {
      "text/plain": [
       "array([0.000e+00, 2.000e-02, 4.000e-02, ..., 9.996e+01, 9.998e+01,\n",
       "       1.000e+02])"
      ]
     },
     "metadata": {},
     "output_type": "display_data"
    }
   ],
   "source": [
    "T0 = 0.0 # Initial time\n",
    "T = 100.0 # The total length of time\n",
    "dt = 0.02 # time step\n",
    "N = int(T / dt) + 1 # number of time steps\n",
    "t = numpy.arange(T0, T+dt, dt) # time grid\n",
    "t_temp = numpy.linspace(T0, T, num=N) # reference\n",
    "display(t) # double check the length of time grid\n",
    "display(t_temp)"
   ]
  },
  {
   "cell_type": "code",
   "execution_count": null,
   "metadata": {},
   "outputs": [],
   "source": []
  }
 ],
 "metadata": {
  "kernelspec": {
   "display_name": "Python 3",
   "language": "python",
   "name": "python3"
  },
  "language_info": {
   "codemirror_mode": {
    "name": "ipython",
    "version": 3
   },
   "file_extension": ".py",
   "mimetype": "text/x-python",
   "name": "python",
   "nbconvert_exporter": "python",
   "pygments_lexer": "ipython3",
   "version": "3.6.2"
  }
 },
 "nbformat": 4,
 "nbformat_minor": 2
}
